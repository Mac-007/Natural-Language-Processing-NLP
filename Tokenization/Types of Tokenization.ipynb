{
 "cells": [
  {
   "cell_type": "markdown",
   "metadata": {},
   "source": [
    "# 1. BPE (Byte Pair Encoding) Tokenization"
   ]
  },
  {
   "cell_type": "code",
   "execution_count": 3,
   "metadata": {},
   "outputs": [],
   "source": [
    "from tokenizers import Tokenizer, models, pre_tokenizers, decoders, trainers"
   ]
  },
  {
   "cell_type": "code",
   "execution_count": 2,
   "metadata": {},
   "outputs": [
    {
     "name": "stdout",
     "output_type": "stream",
     "text": [
      "Defaulting to user installation because normal site-packages is not writeable\n",
      "Collecting tokenizers\n",
      "  Downloading tokenizers-0.20.1-cp312-none-win_amd64.whl.metadata (6.9 kB)\n",
      "Requirement already satisfied: huggingface-hub<1.0,>=0.16.4 in c:\\users\\amitc\\appdata\\roaming\\python\\python312\\site-packages (from tokenizers) (0.23.5)\n",
      "Requirement already satisfied: filelock in c:\\programdata\\anaconda3\\lib\\site-packages (from huggingface-hub<1.0,>=0.16.4->tokenizers) (3.13.1)\n",
      "Requirement already satisfied: fsspec>=2023.5.0 in c:\\programdata\\anaconda3\\lib\\site-packages (from huggingface-hub<1.0,>=0.16.4->tokenizers) (2024.3.1)\n",
      "Requirement already satisfied: packaging>=20.9 in c:\\programdata\\anaconda3\\lib\\site-packages (from huggingface-hub<1.0,>=0.16.4->tokenizers) (23.2)\n",
      "Requirement already satisfied: pyyaml>=5.1 in c:\\programdata\\anaconda3\\lib\\site-packages (from huggingface-hub<1.0,>=0.16.4->tokenizers) (6.0.1)\n",
      "Requirement already satisfied: requests in c:\\programdata\\anaconda3\\lib\\site-packages (from huggingface-hub<1.0,>=0.16.4->tokenizers) (2.32.3)\n",
      "Requirement already satisfied: tqdm>=4.42.1 in c:\\programdata\\anaconda3\\lib\\site-packages (from huggingface-hub<1.0,>=0.16.4->tokenizers) (4.66.4)\n",
      "Requirement already satisfied: typing-extensions>=3.7.4.3 in c:\\programdata\\anaconda3\\lib\\site-packages (from huggingface-hub<1.0,>=0.16.4->tokenizers) (4.11.0)\n",
      "Requirement already satisfied: colorama in c:\\programdata\\anaconda3\\lib\\site-packages (from tqdm>=4.42.1->huggingface-hub<1.0,>=0.16.4->tokenizers) (0.4.6)\n",
      "Requirement already satisfied: charset-normalizer<4,>=2 in c:\\programdata\\anaconda3\\lib\\site-packages (from requests->huggingface-hub<1.0,>=0.16.4->tokenizers) (2.0.4)\n",
      "Requirement already satisfied: idna<4,>=2.5 in c:\\programdata\\anaconda3\\lib\\site-packages (from requests->huggingface-hub<1.0,>=0.16.4->tokenizers) (2.8)\n",
      "Requirement already satisfied: urllib3<3,>=1.21.1 in c:\\programdata\\anaconda3\\lib\\site-packages (from requests->huggingface-hub<1.0,>=0.16.4->tokenizers) (2.2.2)\n",
      "Requirement already satisfied: certifi>=2017.4.17 in c:\\programdata\\anaconda3\\lib\\site-packages (from requests->huggingface-hub<1.0,>=0.16.4->tokenizers) (2024.7.4)\n",
      "Downloading tokenizers-0.20.1-cp312-none-win_amd64.whl (2.4 MB)\n",
      "   ---------------------------------------- 0.0/2.4 MB ? eta -:--:--\n",
      "   ---------------------------------------- 0.0/2.4 MB ? eta -:--:--\n",
      "   -- ------------------------------------- 0.2/2.4 MB 2.4 MB/s eta 0:00:01\n",
      "   ------ --------------------------------- 0.4/2.4 MB 3.6 MB/s eta 0:00:01\n",
      "   ---------- ----------------------------- 0.6/2.4 MB 3.9 MB/s eta 0:00:01\n",
      "   ------------- -------------------------- 0.8/2.4 MB 4.0 MB/s eta 0:00:01\n",
      "   ---------------- ----------------------- 1.0/2.4 MB 4.0 MB/s eta 0:00:01\n",
      "   ------------------- -------------------- 1.2/2.4 MB 4.1 MB/s eta 0:00:01\n",
      "   ----------------------- ---------------- 1.4/2.4 MB 4.0 MB/s eta 0:00:01\n",
      "   --------------------------- ------------ 1.6/2.4 MB 4.1 MB/s eta 0:00:01\n",
      "   ---------------------------- ----------- 1.7/2.4 MB 3.8 MB/s eta 0:00:01\n",
      "   ------------------------------- -------- 1.9/2.4 MB 3.9 MB/s eta 0:00:01\n",
      "   ----------------------------------- ---- 2.1/2.4 MB 4.0 MB/s eta 0:00:01\n",
      "   ---------------------------------------  2.4/2.4 MB 4.1 MB/s eta 0:00:01\n",
      "   ---------------------------------------- 2.4/2.4 MB 3.9 MB/s eta 0:00:00\n",
      "Installing collected packages: tokenizers\n",
      "Successfully installed tokenizers-0.20.1\n"
     ]
    }
   ],
   "source": [
    "!pip install tokenizers"
   ]
  },
  {
   "cell_type": "code",
   "execution_count": 5,
   "metadata": {},
   "outputs": [
    {
     "name": "stdout",
     "output_type": "stream",
     "text": [
      "Tokens: ['newest', 'lower', 'low']\n",
      "IDs: [23, 18, 16]\n"
     ]
    }
   ],
   "source": [
    "\n",
    "# Create a BPE tokenizer\n",
    "tokenizer = Tokenizer(models.BPE())\n",
    "\n",
    "# Set pre-tokenizer to split on whitespace\n",
    "tokenizer.pre_tokenizer = pre_tokenizers.Whitespace()\n",
    "\n",
    "# Create a trainer for the tokenizer\n",
    "trainer = trainers.BpeTrainer(vocab_size=50, min_frequency=2, special_tokens=[\"[UNK]\", \"[CLS]\", \"[SEP]\", \"[PAD]\", \"[MASK]\"])\n",
    "\n",
    "# Sample data\n",
    "files = [\"low lower newest\", \"newest lower low\", \"low and lower\"]\n",
    "\n",
    "# Train the tokenizer\n",
    "tokenizer.train_from_iterator(files, trainer=trainer)\n",
    "\n",
    "# Encode a sample text\n",
    "encoded = tokenizer.encode(\"newest lower low\")\n",
    "print(\"Tokens:\", encoded.tokens)\n",
    "print(\"IDs:\", encoded.ids)\n"
   ]
  },
  {
   "cell_type": "markdown",
   "metadata": {},
   "source": [
    "# 2. WordPiece Tokenization"
   ]
  },
  {
   "cell_type": "code",
   "execution_count": 7,
   "metadata": {},
   "outputs": [
    {
     "name": "stdout",
     "output_type": "stream",
     "text": [
      "Defaulting to user installation because normal site-packages is not writeable\n",
      "Collecting transformers\n",
      "  Downloading transformers-4.46.1-py3-none-any.whl.metadata (44 kB)\n",
      "     ---------------------------------------- 0.0/44.1 kB ? eta -:--:--\n",
      "     --------- ------------------------------ 10.2/44.1 kB ? eta -:--:--\n",
      "     -------------------------- ----------- 30.7/44.1 kB 262.6 kB/s eta 0:00:01\n",
      "     -------------------------------------- 44.1/44.1 kB 308.1 kB/s eta 0:00:00\n",
      "Requirement already satisfied: filelock in c:\\programdata\\anaconda3\\lib\\site-packages (from transformers) (3.13.1)\n",
      "Requirement already satisfied: huggingface-hub<1.0,>=0.23.2 in c:\\users\\amitc\\appdata\\roaming\\python\\python312\\site-packages (from transformers) (0.23.5)\n",
      "Requirement already satisfied: numpy>=1.17 in c:\\programdata\\anaconda3\\lib\\site-packages (from transformers) (1.26.4)\n",
      "Requirement already satisfied: packaging>=20.0 in c:\\programdata\\anaconda3\\lib\\site-packages (from transformers) (23.2)\n",
      "Requirement already satisfied: pyyaml>=5.1 in c:\\programdata\\anaconda3\\lib\\site-packages (from transformers) (6.0.1)\n",
      "Requirement already satisfied: regex!=2019.12.17 in c:\\programdata\\anaconda3\\lib\\site-packages (from transformers) (2023.10.3)\n",
      "Requirement already satisfied: requests in c:\\programdata\\anaconda3\\lib\\site-packages (from transformers) (2.32.3)\n",
      "Requirement already satisfied: safetensors>=0.4.1 in c:\\users\\amitc\\appdata\\roaming\\python\\python312\\site-packages (from transformers) (0.4.3)\n",
      "Requirement already satisfied: tokenizers<0.21,>=0.20 in c:\\users\\amitc\\appdata\\roaming\\python\\python312\\site-packages (from transformers) (0.20.1)\n",
      "Requirement already satisfied: tqdm>=4.27 in c:\\programdata\\anaconda3\\lib\\site-packages (from transformers) (4.66.4)\n",
      "Requirement already satisfied: fsspec>=2023.5.0 in c:\\programdata\\anaconda3\\lib\\site-packages (from huggingface-hub<1.0,>=0.23.2->transformers) (2024.3.1)\n",
      "Requirement already satisfied: typing-extensions>=3.7.4.3 in c:\\programdata\\anaconda3\\lib\\site-packages (from huggingface-hub<1.0,>=0.23.2->transformers) (4.11.0)\n",
      "Requirement already satisfied: colorama in c:\\programdata\\anaconda3\\lib\\site-packages (from tqdm>=4.27->transformers) (0.4.6)\n",
      "Requirement already satisfied: charset-normalizer<4,>=2 in c:\\programdata\\anaconda3\\lib\\site-packages (from requests->transformers) (2.0.4)\n",
      "Requirement already satisfied: idna<4,>=2.5 in c:\\programdata\\anaconda3\\lib\\site-packages (from requests->transformers) (2.8)\n",
      "Requirement already satisfied: urllib3<3,>=1.21.1 in c:\\programdata\\anaconda3\\lib\\site-packages (from requests->transformers) (2.2.2)\n",
      "Requirement already satisfied: certifi>=2017.4.17 in c:\\programdata\\anaconda3\\lib\\site-packages (from requests->transformers) (2024.7.4)\n",
      "Downloading transformers-4.46.1-py3-none-any.whl (10.0 MB)\n",
      "   ---------------------------------------- 0.0/10.0 MB ? eta -:--:--\n",
      "    --------------------------------------- 0.1/10.0 MB 2.8 MB/s eta 0:00:04\n",
      "   - -------------------------------------- 0.4/10.0 MB 3.8 MB/s eta 0:00:03\n",
      "   -- ------------------------------------- 0.6/10.0 MB 4.1 MB/s eta 0:00:03\n",
      "   --- ------------------------------------ 0.8/10.0 MB 4.3 MB/s eta 0:00:03\n",
      "   ---- ----------------------------------- 1.1/10.0 MB 4.8 MB/s eta 0:00:02\n",
      "   ----- ---------------------------------- 1.3/10.0 MB 4.7 MB/s eta 0:00:02\n",
      "   ------ --------------------------------- 1.6/10.0 MB 5.0 MB/s eta 0:00:02\n",
      "   ------- -------------------------------- 1.8/10.0 MB 5.1 MB/s eta 0:00:02\n",
      "   -------- ------------------------------- 2.1/10.0 MB 4.9 MB/s eta 0:00:02\n",
      "   --------- ------------------------------ 2.3/10.0 MB 4.8 MB/s eta 0:00:02\n",
      "   ---------- ----------------------------- 2.5/10.0 MB 4.9 MB/s eta 0:00:02\n",
      "   ----------- ---------------------------- 2.8/10.0 MB 5.0 MB/s eta 0:00:02\n",
      "   ------------ --------------------------- 3.1/10.0 MB 5.2 MB/s eta 0:00:02\n",
      "   ------------- -------------------------- 3.3/10.0 MB 5.0 MB/s eta 0:00:02\n",
      "   -------------- ------------------------- 3.5/10.0 MB 5.0 MB/s eta 0:00:02\n",
      "   --------------- ------------------------ 3.8/10.0 MB 5.1 MB/s eta 0:00:02\n",
      "   ---------------- ----------------------- 4.2/10.0 MB 5.1 MB/s eta 0:00:02\n",
      "   ----------------- ---------------------- 4.3/10.0 MB 4.9 MB/s eta 0:00:02\n",
      "   ------------------ --------------------- 4.6/10.0 MB 5.0 MB/s eta 0:00:02\n",
      "   ------------------- -------------------- 4.9/10.0 MB 5.1 MB/s eta 0:00:02\n",
      "   -------------------- ------------------- 5.1/10.0 MB 5.1 MB/s eta 0:00:01\n",
      "   --------------------- ------------------ 5.4/10.0 MB 5.1 MB/s eta 0:00:01\n",
      "   ---------------------- ----------------- 5.7/10.0 MB 5.2 MB/s eta 0:00:01\n",
      "   ----------------------- ---------------- 5.9/10.0 MB 5.1 MB/s eta 0:00:01\n",
      "   ------------------------ --------------- 6.2/10.0 MB 5.1 MB/s eta 0:00:01\n",
      "   ------------------------- -------------- 6.4/10.0 MB 5.2 MB/s eta 0:00:01\n",
      "   -------------------------- ------------- 6.6/10.0 MB 5.1 MB/s eta 0:00:01\n",
      "   --------------------------- ------------ 6.8/10.0 MB 5.1 MB/s eta 0:00:01\n",
      "   ---------------------------- ----------- 7.0/10.0 MB 5.1 MB/s eta 0:00:01\n",
      "   ---------------------------- ----------- 7.2/10.0 MB 5.1 MB/s eta 0:00:01\n",
      "   ----------------------------- ---------- 7.5/10.0 MB 5.1 MB/s eta 0:00:01\n",
      "   ------------------------------ --------- 7.6/10.0 MB 5.1 MB/s eta 0:00:01\n",
      "   ------------------------------ --------- 7.6/10.0 MB 4.9 MB/s eta 0:00:01\n",
      "   ------------------------------- -------- 7.9/10.0 MB 4.9 MB/s eta 0:00:01\n",
      "   -------------------------------- ------- 8.1/10.0 MB 4.9 MB/s eta 0:00:01\n",
      "   --------------------------------- ------ 8.3/10.0 MB 4.9 MB/s eta 0:00:01\n",
      "   --------------------------------- ------ 8.5/10.0 MB 4.8 MB/s eta 0:00:01\n",
      "   ---------------------------------- ----- 8.7/10.0 MB 4.8 MB/s eta 0:00:01\n",
      "   ----------------------------------- ---- 8.9/10.0 MB 4.8 MB/s eta 0:00:01\n",
      "   ------------------------------------ --- 9.1/10.0 MB 4.8 MB/s eta 0:00:01\n",
      "   ------------------------------------- -- 9.3/10.0 MB 4.8 MB/s eta 0:00:01\n",
      "   -------------------------------------- - 9.5/10.0 MB 4.8 MB/s eta 0:00:01\n",
      "   -------------------------------------- - 9.7/10.0 MB 4.8 MB/s eta 0:00:01\n",
      "   ---------------------------------------  9.9/10.0 MB 4.8 MB/s eta 0:00:01\n",
      "   ---------------------------------------- 10.0/10.0 MB 4.7 MB/s eta 0:00:00\n",
      "Installing collected packages: transformers\n",
      "Successfully installed transformers-4.46.1\n"
     ]
    },
    {
     "name": "stderr",
     "output_type": "stream",
     "text": [
      "  WARNING: The script transformers-cli.exe is installed in 'C:\\Users\\amitc\\AppData\\Roaming\\Python\\Python312\\Scripts' which is not on PATH.\n",
      "  Consider adding this directory to PATH or, if you prefer to suppress this warning, use --no-warn-script-location.\n"
     ]
    }
   ],
   "source": [
    "!pip install transformers"
   ]
  },
  {
   "cell_type": "code",
   "execution_count": 8,
   "metadata": {},
   "outputs": [
    {
     "data": {
      "application/vnd.jupyter.widget-view+json": {
       "model_id": "fa4f1e7bdd0745a89e90de8b7fdc6066",
       "version_major": 2,
       "version_minor": 0
      },
      "text/plain": [
       "tokenizer_config.json:   0%|          | 0.00/48.0 [00:00<?, ?B/s]"
      ]
     },
     "metadata": {},
     "output_type": "display_data"
    },
    {
     "name": "stderr",
     "output_type": "stream",
     "text": [
      "C:\\Users\\amitc\\AppData\\Roaming\\Python\\Python312\\site-packages\\huggingface_hub\\file_download.py:157: UserWarning: `huggingface_hub` cache-system uses symlinks by default to efficiently store duplicated files but your machine does not support them in C:\\Users\\amitc\\.cache\\huggingface\\hub\\models--bert-base-uncased. Caching files will still work but in a degraded version that might require more space on your disk. This warning can be disabled by setting the `HF_HUB_DISABLE_SYMLINKS_WARNING` environment variable. For more details, see https://huggingface.co/docs/huggingface_hub/how-to-cache#limitations.\n",
      "To support symlinks on Windows, you either need to activate Developer Mode or to run Python as an administrator. In order to see activate developer mode, see this article: https://docs.microsoft.com/en-us/windows/apps/get-started/enable-your-device-for-development\n",
      "  warnings.warn(message)\n"
     ]
    },
    {
     "data": {
      "application/vnd.jupyter.widget-view+json": {
       "model_id": "e9d4404d8f574850a0fa0cb5a0d42043",
       "version_major": 2,
       "version_minor": 0
      },
      "text/plain": [
       "vocab.txt:   0%|          | 0.00/232k [00:00<?, ?B/s]"
      ]
     },
     "metadata": {},
     "output_type": "display_data"
    },
    {
     "data": {
      "application/vnd.jupyter.widget-view+json": {
       "model_id": "be7d24fc570249c7b36348cfb64c4ccf",
       "version_major": 2,
       "version_minor": 0
      },
      "text/plain": [
       "tokenizer.json:   0%|          | 0.00/466k [00:00<?, ?B/s]"
      ]
     },
     "metadata": {},
     "output_type": "display_data"
    },
    {
     "data": {
      "application/vnd.jupyter.widget-view+json": {
       "model_id": "cfc0aacad798404690c672798d6f2b2d",
       "version_major": 2,
       "version_minor": 0
      },
      "text/plain": [
       "config.json:   0%|          | 0.00/570 [00:00<?, ?B/s]"
      ]
     },
     "metadata": {},
     "output_type": "display_data"
    },
    {
     "name": "stdout",
     "output_type": "stream",
     "text": [
      "Original Text: The quick brown fox jumps over the lazy dog.\n",
      "Tokens: ['the', 'quick', 'brown', 'fox', 'jumps', 'over', 'the', 'lazy', 'dog', '.']\n",
      "Input IDs: [101, 1996, 4248, 2829, 4419, 14523, 2058, 1996, 13971, 3899, 1012, 102]\n",
      "Decoded Text: [CLS] the quick brown fox jumps over the lazy dog. [SEP]\n"
     ]
    }
   ],
   "source": [
    "from transformers import BertTokenizer\n",
    "\n",
    "# Load the pre-trained BERT tokenizer (which uses WordPiece tokenization)\n",
    "tokenizer = BertTokenizer.from_pretrained('bert-base-uncased')\n",
    "\n",
    "# Sample text to tokenize\n",
    "text = \"The quick brown fox jumps over the lazy dog.\"\n",
    "\n",
    "# Tokenize the text\n",
    "tokens = tokenizer.tokenize(text)\n",
    "\n",
    "# Convert tokens to input IDs\n",
    "input_ids = tokenizer.encode(text, add_special_tokens=True)\n",
    "\n",
    "# Display the tokens and their corresponding IDs\n",
    "print(\"Original Text:\", text)\n",
    "print(\"Tokens:\", tokens)\n",
    "print(\"Input IDs:\", input_ids)\n",
    "\n",
    "# Decode the input IDs back to text\n",
    "decoded_text = tokenizer.decode(input_ids)\n",
    "print(\"Decoded Text:\", decoded_text)\n"
   ]
  },
  {
   "cell_type": "code",
   "execution_count": null,
   "metadata": {},
   "outputs": [],
   "source": []
  }
 ],
 "metadata": {
  "kernelspec": {
   "display_name": "base",
   "language": "python",
   "name": "python3"
  },
  "language_info": {
   "codemirror_mode": {
    "name": "ipython",
    "version": 3
   },
   "file_extension": ".py",
   "mimetype": "text/x-python",
   "name": "python",
   "nbconvert_exporter": "python",
   "pygments_lexer": "ipython3",
   "version": "3.12.4"
  }
 },
 "nbformat": 4,
 "nbformat_minor": 2
}
